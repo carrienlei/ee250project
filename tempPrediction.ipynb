{
 "cells": [
  {
   "cell_type": "code",
   "execution_count": null,
   "metadata": {},
   "outputs": [],
   "source": [
    "import pandas as pd\n",
    "import numpy as np\n",
    "import matplotlib.pyplot as plt\n",
    "import seaborn as sns\n",
    "from sklearn.model_selection import train_test_split\n",
    "from sklearn.inspection import permutation_importance\n",
    "from sklearn.metrics import mean_squared_error\n",
    "from sklearn.tree import DecisionTreeClassifier\n",
    "from sklearn.tree import DecisionTreeRegressor\n",
    "from sklearn.ensemble import GradientBoostingClassifier\n",
    "from sklearn.ensemble import GradientBoostingRegressor\n",
    "from sklearn.ensemble import AdaBoostClassifier\n"
   ]
  },
  {
   "cell_type": "code",
   "execution_count": null,
   "metadata": {},
   "outputs": [],
   "source": [
    "df = pd.read_csv('LosAngelesTempData.csv')\n",
    "\n",
    "def convertKtoF(x):\n",
    "    x = (x-273.15) * (9/5) +32\n",
    "    return float(x)\n",
    "\n",
    "df ['datetime'] = pd.to_datetime(df ['datetime'])\n",
    "df ['temperature'] = df['temperature'].apply(convertKtoF)\n",
    "\n",
    "\n",
    "plt.figure(figsize=(30,24))\n",
    "plt.plot(df['datetime'], df['temperature'])\n",
    "plt.title('Los Angeles Temperature Over Time', size=16)\n",
    "plt.xlabel('Year', size=14)\n",
    "plt.ylabel('Temperature', size=14)\n",
    "plt.show()\n",
    "\n",
    "df['Month'] = df['datetime'].dt.month\n",
    "df['Year'] = df['datetime'].dt.year\n",
    "df['Day'] = df['datetime'].dt.day\n",
    "df['Hour'] = df['datetime'].dt.hour"
   ]
  },
  {
   "cell_type": "code",
   "execution_count": null,
   "metadata": {},
   "outputs": [],
   "source": [
    "targetVar = df['temperature']\n",
    "features = df[['humidity', 'pressure','windspeed','Month']]\n",
    "\n",
    "userHumidity = input(\"Enter humidity value (as a percentage):\")\n",
    "userPressure = input(\"Enter pressure value (in hectoPascal between 1000 - 1200):\")\n",
    "userWindspeed = input(\"Enter windspeed value (in m/s between 0-5):\")\n",
    "userMonth = input(\"Enter which month (as a number 1-12):\")\n",
    "\n",
    "from sklearn import linear_model\n",
    "regr = linear_model.LinearRegression()\n",
    "regr.fit(features, targetVar)\n",
    "predictedTemp = regr.predict([[int(userHumidity), int(userPressure), int(userWindspeed), int(userMonth)]])\n",
    "print(\"The predicted temperature given these conditions is: \" + str(predictedTemp))"
   ]
  }
 ],
 "metadata": {
  "kernelspec": {
   "display_name": "Python 3",
   "language": "python",
   "name": "python3"
  },
  "language_info": {
   "codemirror_mode": {
    "name": "ipython",
    "version": 3
   },
   "file_extension": ".py",
   "mimetype": "text/x-python",
   "name": "python",
   "nbconvert_exporter": "python",
   "pygments_lexer": "ipython3",
   "version": "3.10.5"
  },
  "orig_nbformat": 4
 },
 "nbformat": 4,
 "nbformat_minor": 2
}
